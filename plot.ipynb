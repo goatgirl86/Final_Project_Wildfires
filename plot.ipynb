{
 "cells": [
  {
   "cell_type": "code",
   "execution_count": 1,
   "metadata": {},
   "outputs": [],
   "source": [
    "import pandas as pd\n",
    "import numpy as np\n",
    "\n",
    "import matplotlib.pyplot as plt\n",
    "# Import the style from Matplotlib.\n",
    "from matplotlib import style\n",
    "%matplotlib inline"
   ]
  },
  {
   "cell_type": "code",
   "execution_count": 2,
   "metadata": {},
   "outputs": [
    {
     "data": {
      "text/html": [
       "<div>\n",
       "<style scoped>\n",
       "    .dataframe tbody tr th:only-of-type {\n",
       "        vertical-align: middle;\n",
       "    }\n",
       "\n",
       "    .dataframe tbody tr th {\n",
       "        vertical-align: top;\n",
       "    }\n",
       "\n",
       "    .dataframe thead th {\n",
       "        text-align: right;\n",
       "    }\n",
       "</style>\n",
       "<table border=\"1\" class=\"dataframe\">\n",
       "  <thead>\n",
       "    <tr style=\"text-align: right;\">\n",
       "      <th></th>\n",
       "      <th>fire_id</th>\n",
       "      <th>fire_size</th>\n",
       "      <th>fire_cause</th>\n",
       "      <th>latitude</th>\n",
       "      <th>longitude</th>\n",
       "      <th>state</th>\n",
       "      <th>discovery_month</th>\n",
       "      <th>Temp_pre_30</th>\n",
       "      <th>Temp_pre_15</th>\n",
       "      <th>Temp_pre_7</th>\n",
       "      <th>Wind_pre_30</th>\n",
       "      <th>Wind_pre_15</th>\n",
       "      <th>Wind_pre_7</th>\n",
       "      <th>Hum_pre_30</th>\n",
       "      <th>Hum_pre_15</th>\n",
       "      <th>Hum_pre_7</th>\n",
       "      <th>year</th>\n",
       "      <th>putout_time</th>\n",
       "      <th>fire_size_bin</th>\n",
       "      <th>fire_size_bin_no</th>\n",
       "    </tr>\n",
       "  </thead>\n",
       "  <tbody>\n",
       "    <tr>\n",
       "      <th>0</th>\n",
       "      <td>3</td>\n",
       "      <td>1.00</td>\n",
       "      <td>Debris Burning</td>\n",
       "      <td>39.641400</td>\n",
       "      <td>-119.308300</td>\n",
       "      <td>NV</td>\n",
       "      <td>Jun</td>\n",
       "      <td>16.275967</td>\n",
       "      <td>18.996181</td>\n",
       "      <td>18.142564</td>\n",
       "      <td>4.054982</td>\n",
       "      <td>3.398329</td>\n",
       "      <td>3.671282</td>\n",
       "      <td>44.778429</td>\n",
       "      <td>37.140811</td>\n",
       "      <td>35.353846</td>\n",
       "      <td>2005</td>\n",
       "      <td>0</td>\n",
       "      <td>Teacup</td>\n",
       "      <td>1</td>\n",
       "    </tr>\n",
       "    <tr>\n",
       "      <th>1</th>\n",
       "      <td>24</td>\n",
       "      <td>40.00</td>\n",
       "      <td>Arson</td>\n",
       "      <td>31.435181</td>\n",
       "      <td>-88.999489</td>\n",
       "      <td>MS</td>\n",
       "      <td>Apr</td>\n",
       "      <td>13.468619</td>\n",
       "      <td>15.067227</td>\n",
       "      <td>15.604790</td>\n",
       "      <td>2.038268</td>\n",
       "      <td>1.737921</td>\n",
       "      <td>1.775904</td>\n",
       "      <td>57.997207</td>\n",
       "      <td>56.747191</td>\n",
       "      <td>59.614458</td>\n",
       "      <td>1999</td>\n",
       "      <td>0</td>\n",
       "      <td>Mini</td>\n",
       "      <td>3</td>\n",
       "    </tr>\n",
       "    <tr>\n",
       "      <th>2</th>\n",
       "      <td>31</td>\n",
       "      <td>1.20</td>\n",
       "      <td>Debris Burning</td>\n",
       "      <td>48.833000</td>\n",
       "      <td>-99.783600</td>\n",
       "      <td>ND</td>\n",
       "      <td>Apr</td>\n",
       "      <td>-0.891635</td>\n",
       "      <td>0.372659</td>\n",
       "      <td>-4.273834</td>\n",
       "      <td>5.800667</td>\n",
       "      <td>6.012852</td>\n",
       "      <td>6.658621</td>\n",
       "      <td>77.575012</td>\n",
       "      <td>75.963981</td>\n",
       "      <td>71.173116</td>\n",
       "      <td>2007</td>\n",
       "      <td>0</td>\n",
       "      <td>Teacup</td>\n",
       "      <td>1</td>\n",
       "    </tr>\n",
       "    <tr>\n",
       "      <th>3</th>\n",
       "      <td>35</td>\n",
       "      <td>30.18</td>\n",
       "      <td>Debris Burning</td>\n",
       "      <td>31.259000</td>\n",
       "      <td>-84.895600</td>\n",
       "      <td>GA</td>\n",
       "      <td>Oct</td>\n",
       "      <td>20.079480</td>\n",
       "      <td>17.722714</td>\n",
       "      <td>18.188679</td>\n",
       "      <td>3.659840</td>\n",
       "      <td>3.366443</td>\n",
       "      <td>2.211429</td>\n",
       "      <td>67.551783</td>\n",
       "      <td>61.733788</td>\n",
       "      <td>60.328571</td>\n",
       "      <td>2000</td>\n",
       "      <td>0</td>\n",
       "      <td>Mini</td>\n",
       "      <td>3</td>\n",
       "    </tr>\n",
       "    <tr>\n",
       "      <th>4</th>\n",
       "      <td>36</td>\n",
       "      <td>1420.00</td>\n",
       "      <td>Lightning</td>\n",
       "      <td>33.241800</td>\n",
       "      <td>-104.912200</td>\n",
       "      <td>NM</td>\n",
       "      <td>Jul</td>\n",
       "      <td>31.055859</td>\n",
       "      <td>32.523438</td>\n",
       "      <td>34.893333</td>\n",
       "      <td>4.026367</td>\n",
       "      <td>3.844922</td>\n",
       "      <td>3.695833</td>\n",
       "      <td>28.783203</td>\n",
       "      <td>25.789062</td>\n",
       "      <td>18.208333</td>\n",
       "      <td>1994</td>\n",
       "      <td>1</td>\n",
       "      <td>Large</td>\n",
       "      <td>5</td>\n",
       "    </tr>\n",
       "    <tr>\n",
       "      <th>...</th>\n",
       "      <td>...</td>\n",
       "      <td>...</td>\n",
       "      <td>...</td>\n",
       "      <td>...</td>\n",
       "      <td>...</td>\n",
       "      <td>...</td>\n",
       "      <td>...</td>\n",
       "      <td>...</td>\n",
       "      <td>...</td>\n",
       "      <td>...</td>\n",
       "      <td>...</td>\n",
       "      <td>...</td>\n",
       "      <td>...</td>\n",
       "      <td>...</td>\n",
       "      <td>...</td>\n",
       "      <td>...</td>\n",
       "      <td>...</td>\n",
       "      <td>...</td>\n",
       "      <td>...</td>\n",
       "      <td>...</td>\n",
       "    </tr>\n",
       "    <tr>\n",
       "      <th>13133</th>\n",
       "      <td>55336</td>\n",
       "      <td>3409.00</td>\n",
       "      <td>Utilities</td>\n",
       "      <td>31.059000</td>\n",
       "      <td>-98.956367</td>\n",
       "      <td>TX</td>\n",
       "      <td>Aug</td>\n",
       "      <td>30.731860</td>\n",
       "      <td>30.545367</td>\n",
       "      <td>28.719917</td>\n",
       "      <td>3.136761</td>\n",
       "      <td>3.238803</td>\n",
       "      <td>3.224274</td>\n",
       "      <td>50.089157</td>\n",
       "      <td>49.416505</td>\n",
       "      <td>55.426471</td>\n",
       "      <td>2015</td>\n",
       "      <td>3</td>\n",
       "      <td>Large</td>\n",
       "      <td>5</td>\n",
       "    </tr>\n",
       "    <tr>\n",
       "      <th>13134</th>\n",
       "      <td>55337</td>\n",
       "      <td>4582.00</td>\n",
       "      <td>Utilities</td>\n",
       "      <td>30.075167</td>\n",
       "      <td>-97.149167</td>\n",
       "      <td>TX</td>\n",
       "      <td>Oct</td>\n",
       "      <td>24.642268</td>\n",
       "      <td>23.713390</td>\n",
       "      <td>24.221869</td>\n",
       "      <td>1.529850</td>\n",
       "      <td>1.576828</td>\n",
       "      <td>1.563817</td>\n",
       "      <td>62.848172</td>\n",
       "      <td>60.641975</td>\n",
       "      <td>63.196819</td>\n",
       "      <td>2015</td>\n",
       "      <td>11</td>\n",
       "      <td>Large</td>\n",
       "      <td>5</td>\n",
       "    </tr>\n",
       "    <tr>\n",
       "      <th>13135</th>\n",
       "      <td>55341</td>\n",
       "      <td>17823.00</td>\n",
       "      <td>Accidental</td>\n",
       "      <td>44.834600</td>\n",
       "      <td>-117.220600</td>\n",
       "      <td>OR</td>\n",
       "      <td>Sep</td>\n",
       "      <td>15.546194</td>\n",
       "      <td>12.890633</td>\n",
       "      <td>10.734328</td>\n",
       "      <td>2.608150</td>\n",
       "      <td>2.486802</td>\n",
       "      <td>1.835821</td>\n",
       "      <td>55.009259</td>\n",
       "      <td>62.368700</td>\n",
       "      <td>67.266304</td>\n",
       "      <td>2015</td>\n",
       "      <td>39</td>\n",
       "      <td>XL</td>\n",
       "      <td>6</td>\n",
       "    </tr>\n",
       "    <tr>\n",
       "      <th>13136</th>\n",
       "      <td>55342</td>\n",
       "      <td>5086.00</td>\n",
       "      <td>Debris Burning</td>\n",
       "      <td>45.656100</td>\n",
       "      <td>-109.114200</td>\n",
       "      <td>MT</td>\n",
       "      <td>Mar</td>\n",
       "      <td>2.275974</td>\n",
       "      <td>7.360185</td>\n",
       "      <td>7.678571</td>\n",
       "      <td>4.428757</td>\n",
       "      <td>4.197593</td>\n",
       "      <td>3.803571</td>\n",
       "      <td>51.676681</td>\n",
       "      <td>46.933399</td>\n",
       "      <td>42.638384</td>\n",
       "      <td>2015</td>\n",
       "      <td>5</td>\n",
       "      <td>Large</td>\n",
       "      <td>5</td>\n",
       "    </tr>\n",
       "    <tr>\n",
       "      <th>13137</th>\n",
       "      <td>55343</td>\n",
       "      <td>5963.00</td>\n",
       "      <td>Debris Burning</td>\n",
       "      <td>43.785671</td>\n",
       "      <td>-115.985922</td>\n",
       "      <td>ID</td>\n",
       "      <td>Oct</td>\n",
       "      <td>17.007551</td>\n",
       "      <td>16.983670</td>\n",
       "      <td>15.732906</td>\n",
       "      <td>1.580406</td>\n",
       "      <td>1.835639</td>\n",
       "      <td>1.405983</td>\n",
       "      <td>51.541802</td>\n",
       "      <td>53.945191</td>\n",
       "      <td>56.257500</td>\n",
       "      <td>2015</td>\n",
       "      <td>10</td>\n",
       "      <td>Large</td>\n",
       "      <td>5</td>\n",
       "    </tr>\n",
       "  </tbody>\n",
       "</table>\n",
       "<p>13138 rows × 20 columns</p>\n",
       "</div>"
      ],
      "text/plain": [
       "       fire_id  fire_size      fire_cause   latitude   longitude state  \\\n",
       "0            3       1.00  Debris Burning  39.641400 -119.308300    NV   \n",
       "1           24      40.00           Arson  31.435181  -88.999489    MS   \n",
       "2           31       1.20  Debris Burning  48.833000  -99.783600    ND   \n",
       "3           35      30.18  Debris Burning  31.259000  -84.895600    GA   \n",
       "4           36    1420.00       Lightning  33.241800 -104.912200    NM   \n",
       "...        ...        ...             ...        ...         ...   ...   \n",
       "13133    55336    3409.00       Utilities  31.059000  -98.956367    TX   \n",
       "13134    55337    4582.00       Utilities  30.075167  -97.149167    TX   \n",
       "13135    55341   17823.00      Accidental  44.834600 -117.220600    OR   \n",
       "13136    55342    5086.00  Debris Burning  45.656100 -109.114200    MT   \n",
       "13137    55343    5963.00  Debris Burning  43.785671 -115.985922    ID   \n",
       "\n",
       "      discovery_month  Temp_pre_30  Temp_pre_15  Temp_pre_7  Wind_pre_30  \\\n",
       "0                 Jun    16.275967    18.996181   18.142564     4.054982   \n",
       "1                 Apr    13.468619    15.067227   15.604790     2.038268   \n",
       "2                 Apr    -0.891635     0.372659   -4.273834     5.800667   \n",
       "3                 Oct    20.079480    17.722714   18.188679     3.659840   \n",
       "4                 Jul    31.055859    32.523438   34.893333     4.026367   \n",
       "...               ...          ...          ...         ...          ...   \n",
       "13133             Aug    30.731860    30.545367   28.719917     3.136761   \n",
       "13134             Oct    24.642268    23.713390   24.221869     1.529850   \n",
       "13135             Sep    15.546194    12.890633   10.734328     2.608150   \n",
       "13136             Mar     2.275974     7.360185    7.678571     4.428757   \n",
       "13137             Oct    17.007551    16.983670   15.732906     1.580406   \n",
       "\n",
       "       Wind_pre_15  Wind_pre_7  Hum_pre_30  Hum_pre_15  Hum_pre_7  year  \\\n",
       "0         3.398329    3.671282   44.778429   37.140811  35.353846  2005   \n",
       "1         1.737921    1.775904   57.997207   56.747191  59.614458  1999   \n",
       "2         6.012852    6.658621   77.575012   75.963981  71.173116  2007   \n",
       "3         3.366443    2.211429   67.551783   61.733788  60.328571  2000   \n",
       "4         3.844922    3.695833   28.783203   25.789062  18.208333  1994   \n",
       "...            ...         ...         ...         ...        ...   ...   \n",
       "13133     3.238803    3.224274   50.089157   49.416505  55.426471  2015   \n",
       "13134     1.576828    1.563817   62.848172   60.641975  63.196819  2015   \n",
       "13135     2.486802    1.835821   55.009259   62.368700  67.266304  2015   \n",
       "13136     4.197593    3.803571   51.676681   46.933399  42.638384  2015   \n",
       "13137     1.835639    1.405983   51.541802   53.945191  56.257500  2015   \n",
       "\n",
       "       putout_time fire_size_bin  fire_size_bin_no  \n",
       "0                0        Teacup                 1  \n",
       "1                0          Mini                 3  \n",
       "2                0        Teacup                 1  \n",
       "3                0          Mini                 3  \n",
       "4                1         Large                 5  \n",
       "...            ...           ...               ...  \n",
       "13133            3         Large                 5  \n",
       "13134           11         Large                 5  \n",
       "13135           39            XL                 6  \n",
       "13136            5         Large                 5  \n",
       "13137           10         Large                 5  \n",
       "\n",
       "[13138 rows x 20 columns]"
      ]
     },
     "execution_count": 2,
     "metadata": {},
     "output_type": "execute_result"
    }
   ],
   "source": [
    "df = pd.read_csv(\"Resources_k/fire_size_bins_new.csv\")\n",
    "df\n"
   ]
  },
  {
   "cell_type": "code",
   "execution_count": 3,
   "metadata": {},
   "outputs": [
    {
     "data": {
      "image/png": "[encoded data removed]",
      "text/plain": [
       "<Figure size 1440x432 with 1 Axes>"
      ]
     },
     "metadata": {},
     "output_type": "display_data"
    }
   ],
   "source": [
    "\n",
    "\n",
    "\n",
    "# Use the graph style fivethirtyeight.\n",
    "style.use('fivethirtyeight')\n",
    "fig,ax = plt.subplots()\n",
    "df.plot(x='year', y='fire_size', kind='scatter', figsize = (20,6), ax=ax)\n",
    "ax.set_title(\"fire size by year\")\n",
    "ax.set_xlabel(\"year\")\n",
    "ax.set_ylabel(\"fire_size\")\n",
    "#ax.legend(title = \"type\", loc = \"center\")\n",
    "plt.tight_layout()\n",
    "#the chart is saved to analysis folder\n",
    "#plt.savefig(\"analysis/PyBer_fare_summary.png\")\n",
    "\n",
    "#show chart\n",
    "\n",
    "plt.show()"
   ]
  },
  {
   "cell_type": "markdown",
   "metadata": {},
   "source": [
    "----------------------"
   ]
  },
  {
   "cell_type": "markdown",
   "metadata": {},
   "source": [
    "-------------------------"
   ]
  },
  {
   "cell_type": "markdown",
   "metadata": {},
   "source": [
    "# Linear Regression"
   ]
  },
  {
   "cell_type": "markdown",
   "metadata": {},
   "source": [
    "### Import Initial Dependency and Read CSV"
   ]
  },
  {
   "cell_type": "code",
   "execution_count": null,
   "metadata": {},
   "outputs": [],
   "source": [
    "import pandas as pd"
   ]
  },
  {
   "cell_type": "code",
   "execution_count": null,
   "metadata": {},
   "outputs": [
    {
     "data": {
      "text/html": [
       "<div>\n",
       "<style scoped>\n",
       "    .dataframe tbody tr th:only-of-type {\n",
       "        vertical-align: middle;\n",
       "    }\n",
       "\n",
       "    .dataframe tbody tr th {\n",
       "        vertical-align: top;\n",
       "    }\n",
       "\n",
       "    .dataframe thead th {\n",
       "        text-align: right;\n",
       "    }\n",
       "</style>\n",
       "<table border=\"1\" class=\"dataframe\">\n",
       "  <thead>\n",
       "    <tr style=\"text-align: right;\">\n",
       "      <th></th>\n",
       "      <th>fire_index</th>\n",
       "      <th>fire_size</th>\n",
       "      <th>fire_cause</th>\n",
       "      <th>latitude</th>\n",
       "      <th>longitude</th>\n",
       "      <th>state</th>\n",
       "      <th>discovery_month</th>\n",
       "      <th>Temp_pre_30</th>\n",
       "      <th>Temp_pre_15</th>\n",
       "      <th>Temp_pre_7</th>\n",
       "      <th>Wind_pre_30</th>\n",
       "      <th>Wind_pre_15</th>\n",
       "      <th>Wind_pre_7</th>\n",
       "      <th>Hum_pre_30</th>\n",
       "      <th>Hum_pre_15</th>\n",
       "      <th>Hum_pre_7</th>\n",
       "      <th>year</th>\n",
       "      <th>putout_time</th>\n",
       "    </tr>\n",
       "  </thead>\n",
       "  <tbody>\n",
       "    <tr>\n",
       "      <th>0</th>\n",
       "      <td>3</td>\n",
       "      <td>1.00</td>\n",
       "      <td>Debris Burning</td>\n",
       "      <td>39.641400</td>\n",
       "      <td>-119.308300</td>\n",
       "      <td>NV</td>\n",
       "      <td>Jun</td>\n",
       "      <td>16.275967</td>\n",
       "      <td>18.996181</td>\n",
       "      <td>18.142564</td>\n",
       "      <td>4.054982</td>\n",
       "      <td>3.398329</td>\n",
       "      <td>3.671282</td>\n",
       "      <td>44.778429</td>\n",
       "      <td>37.140811</td>\n",
       "      <td>35.353846</td>\n",
       "      <td>2005</td>\n",
       "      <td>0</td>\n",
       "    </tr>\n",
       "    <tr>\n",
       "      <th>1</th>\n",
       "      <td>24</td>\n",
       "      <td>40.00</td>\n",
       "      <td>Arson</td>\n",
       "      <td>31.435181</td>\n",
       "      <td>-88.999489</td>\n",
       "      <td>MS</td>\n",
       "      <td>Apr</td>\n",
       "      <td>13.468619</td>\n",
       "      <td>15.067227</td>\n",
       "      <td>15.604790</td>\n",
       "      <td>2.038268</td>\n",
       "      <td>1.737921</td>\n",
       "      <td>1.775904</td>\n",
       "      <td>57.997207</td>\n",
       "      <td>56.747191</td>\n",
       "      <td>59.614458</td>\n",
       "      <td>1999</td>\n",
       "      <td>0</td>\n",
       "    </tr>\n",
       "    <tr>\n",
       "      <th>2</th>\n",
       "      <td>31</td>\n",
       "      <td>1.20</td>\n",
       "      <td>Debris Burning</td>\n",
       "      <td>48.833000</td>\n",
       "      <td>-99.783600</td>\n",
       "      <td>ND</td>\n",
       "      <td>Apr</td>\n",
       "      <td>-0.891635</td>\n",
       "      <td>0.372659</td>\n",
       "      <td>-4.273834</td>\n",
       "      <td>5.800667</td>\n",
       "      <td>6.012852</td>\n",
       "      <td>6.658621</td>\n",
       "      <td>77.575012</td>\n",
       "      <td>75.963981</td>\n",
       "      <td>71.173116</td>\n",
       "      <td>2007</td>\n",
       "      <td>0</td>\n",
       "    </tr>\n",
       "    <tr>\n",
       "      <th>3</th>\n",
       "      <td>35</td>\n",
       "      <td>30.18</td>\n",
       "      <td>Debris Burning</td>\n",
       "      <td>31.259000</td>\n",
       "      <td>-84.895600</td>\n",
       "      <td>GA</td>\n",
       "      <td>Oct</td>\n",
       "      <td>20.079480</td>\n",
       "      <td>17.722714</td>\n",
       "      <td>18.188679</td>\n",
       "      <td>3.659840</td>\n",
       "      <td>3.366443</td>\n",
       "      <td>2.211429</td>\n",
       "      <td>67.551783</td>\n",
       "      <td>61.733788</td>\n",
       "      <td>60.328571</td>\n",
       "      <td>2000</td>\n",
       "      <td>0</td>\n",
       "    </tr>\n",
       "    <tr>\n",
       "      <th>4</th>\n",
       "      <td>36</td>\n",
       "      <td>1420.00</td>\n",
       "      <td>Lightning</td>\n",
       "      <td>33.241800</td>\n",
       "      <td>-104.912200</td>\n",
       "      <td>NM</td>\n",
       "      <td>Jul</td>\n",
       "      <td>31.055859</td>\n",
       "      <td>32.523438</td>\n",
       "      <td>34.893333</td>\n",
       "      <td>4.026367</td>\n",
       "      <td>3.844922</td>\n",
       "      <td>3.695833</td>\n",
       "      <td>28.783203</td>\n",
       "      <td>25.789062</td>\n",
       "      <td>18.208333</td>\n",
       "      <td>1994</td>\n",
       "      <td>1</td>\n",
       "    </tr>\n",
       "    <tr>\n",
       "      <th>...</th>\n",
       "      <td>...</td>\n",
       "      <td>...</td>\n",
       "      <td>...</td>\n",
       "      <td>...</td>\n",
       "      <td>...</td>\n",
       "      <td>...</td>\n",
       "      <td>...</td>\n",
       "      <td>...</td>\n",
       "      <td>...</td>\n",
       "      <td>...</td>\n",
       "      <td>...</td>\n",
       "      <td>...</td>\n",
       "      <td>...</td>\n",
       "      <td>...</td>\n",
       "      <td>...</td>\n",
       "      <td>...</td>\n",
       "      <td>...</td>\n",
       "      <td>...</td>\n",
       "    </tr>\n",
       "    <tr>\n",
       "      <th>13133</th>\n",
       "      <td>55336</td>\n",
       "      <td>3409.00</td>\n",
       "      <td>Utilities</td>\n",
       "      <td>31.059000</td>\n",
       "      <td>-98.956367</td>\n",
       "      <td>TX</td>\n",
       "      <td>Aug</td>\n",
       "      <td>30.731860</td>\n",
       "      <td>30.545367</td>\n",
       "      <td>28.719917</td>\n",
       "      <td>3.136761</td>\n",
       "      <td>3.238803</td>\n",
       "      <td>3.224274</td>\n",
       "      <td>50.089157</td>\n",
       "      <td>49.416505</td>\n",
       "      <td>55.426471</td>\n",
       "      <td>2015</td>\n",
       "      <td>3</td>\n",
       "    </tr>\n",
       "    <tr>\n",
       "      <th>13134</th>\n",
       "      <td>55337</td>\n",
       "      <td>4582.00</td>\n",
       "      <td>Utilities</td>\n",
       "      <td>30.075167</td>\n",
       "      <td>-97.149167</td>\n",
       "      <td>TX</td>\n",
       "      <td>Oct</td>\n",
       "      <td>24.642268</td>\n",
       "      <td>23.713390</td>\n",
       "      <td>24.221869</td>\n",
       "      <td>1.529850</td>\n",
       "      <td>1.576828</td>\n",
       "      <td>1.563817</td>\n",
       "      <td>62.848172</td>\n",
       "      <td>60.641975</td>\n",
       "      <td>63.196819</td>\n",
       "      <td>2015</td>\n",
       "      <td>11</td>\n",
       "    </tr>\n",
       "    <tr>\n",
       "      <th>13135</th>\n",
       "      <td>55341</td>\n",
       "      <td>17823.00</td>\n",
       "      <td>Accidental</td>\n",
       "      <td>44.834600</td>\n",
       "      <td>-117.220600</td>\n",
       "      <td>OR</td>\n",
       "      <td>Sep</td>\n",
       "      <td>15.546194</td>\n",
       "      <td>12.890633</td>\n",
       "      <td>10.734328</td>\n",
       "      <td>2.608150</td>\n",
       "      <td>2.486802</td>\n",
       "      <td>1.835821</td>\n",
       "      <td>55.009259</td>\n",
       "      <td>62.368700</td>\n",
       "      <td>67.266304</td>\n",
       "      <td>2015</td>\n",
       "      <td>39</td>\n",
       "    </tr>\n",
       "    <tr>\n",
       "      <th>13136</th>\n",
       "      <td>55342</td>\n",
       "      <td>5086.00</td>\n",
       "      <td>Debris Burning</td>\n",
       "      <td>45.656100</td>\n",
       "      <td>-109.114200</td>\n",
       "      <td>MT</td>\n",
       "      <td>Mar</td>\n",
       "      <td>2.275974</td>\n",
       "      <td>7.360185</td>\n",
       "      <td>7.678571</td>\n",
       "      <td>4.428757</td>\n",
       "      <td>4.197593</td>\n",
       "      <td>3.803571</td>\n",
       "      <td>51.676681</td>\n",
       "      <td>46.933399</td>\n",
       "      <td>42.638384</td>\n",
       "      <td>2015</td>\n",
       "      <td>5</td>\n",
       "    </tr>\n",
       "    <tr>\n",
       "      <th>13137</th>\n",
       "      <td>55343</td>\n",
       "      <td>5963.00</td>\n",
       "      <td>Debris Burning</td>\n",
       "      <td>43.785671</td>\n",
       "      <td>-115.985922</td>\n",
       "      <td>ID</td>\n",
       "      <td>Oct</td>\n",
       "      <td>17.007551</td>\n",
       "      <td>16.983670</td>\n",
       "      <td>15.732906</td>\n",
       "      <td>1.580406</td>\n",
       "      <td>1.835639</td>\n",
       "      <td>1.405983</td>\n",
       "      <td>51.541802</td>\n",
       "      <td>53.945191</td>\n",
       "      <td>56.257500</td>\n",
       "      <td>2015</td>\n",
       "      <td>10</td>\n",
       "    </tr>\n",
       "  </tbody>\n",
       "</table>\n",
       "<p>13138 rows × 18 columns</p>\n",
       "</div>"
      ],
      "text/plain": [
       "       fire_index  fire_size      fire_cause   latitude   longitude state  \\\n",
       "0               3       1.00  Debris Burning  39.641400 -119.308300    NV   \n",
       "1              24      40.00           Arson  31.435181  -88.999489    MS   \n",
       "2              31       1.20  Debris Burning  48.833000  -99.783600    ND   \n",
       "3              35      30.18  Debris Burning  31.259000  -84.895600    GA   \n",
       "4              36    1420.00       Lightning  33.241800 -104.912200    NM   \n",
       "...           ...        ...             ...        ...         ...   ...   \n",
       "13133       55336    3409.00       Utilities  31.059000  -98.956367    TX   \n",
       "13134       55337    4582.00       Utilities  30.075167  -97.149167    TX   \n",
       "13135       55341   17823.00      Accidental  44.834600 -117.220600    OR   \n",
       "13136       55342    5086.00  Debris Burning  45.656100 -109.114200    MT   \n",
       "13137       55343    5963.00  Debris Burning  43.785671 -115.985922    ID   \n",
       "\n",
       "      discovery_month  Temp_pre_30  Temp_pre_15  Temp_pre_7  Wind_pre_30  \\\n",
       "0                 Jun    16.275967    18.996181   18.142564     4.054982   \n",
       "1                 Apr    13.468619    15.067227   15.604790     2.038268   \n",
       "2                 Apr    -0.891635     0.372659   -4.273834     5.800667   \n",
       "3                 Oct    20.079480    17.722714   18.188679     3.659840   \n",
       "4                 Jul    31.055859    32.523438   34.893333     4.026367   \n",
       "...               ...          ...          ...         ...          ...   \n",
       "13133             Aug    30.731860    30.545367   28.719917     3.136761   \n",
       "13134             Oct    24.642268    23.713390   24.221869     1.529850   \n",
       "13135             Sep    15.546194    12.890633   10.734328     2.608150   \n",
       "13136             Mar     2.275974     7.360185    7.678571     4.428757   \n",
       "13137             Oct    17.007551    16.983670   15.732906     1.580406   \n",
       "\n",
       "       Wind_pre_15  Wind_pre_7  Hum_pre_30  Hum_pre_15  Hum_pre_7  year  \\\n",
       "0         3.398329    3.671282   44.778429   37.140811  35.353846  2005   \n",
       "1         1.737921    1.775904   57.997207   56.747191  59.614458  1999   \n",
       "2         6.012852    6.658621   77.575012   75.963981  71.173116  2007   \n",
       "3         3.366443    2.211429   67.551783   61.733788  60.328571  2000   \n",
       "4         3.844922    3.695833   28.783203   25.789062  18.208333  1994   \n",
       "...            ...         ...         ...         ...        ...   ...   \n",
       "13133     3.238803    3.224274   50.089157   49.416505  55.426471  2015   \n",
       "13134     1.576828    1.563817   62.848172   60.641975  63.196819  2015   \n",
       "13135     2.486802    1.835821   55.009259   62.368700  67.266304  2015   \n",
       "13136     4.197593    3.803571   51.676681   46.933399  42.638384  2015   \n",
       "13137     1.835639    1.405983   51.541802   53.945191  56.257500  2015   \n",
       "\n",
       "       putout_time  \n",
       "0                0  \n",
       "1                0  \n",
       "2                0  \n",
       "3                0  \n",
       "4                1  \n",
       "...            ...  \n",
       "13133            3  \n",
       "13134           11  \n",
       "13135           39  \n",
       "13136            5  \n",
       "13137           10  \n",
       "\n",
       "[13138 rows x 18 columns]"
      ]
     },
     "metadata": {},
     "output_type": "display_data"
    }
   ],
   "source": [
    "df=pd.read_csv(\"Resources/temps_to_7.csv\")\n",
    "df"
   ]
  },
  {
   "cell_type": "markdown",
   "metadata": {},
   "source": [
    "-----------------------------"
   ]
  },
  {
   "cell_type": "markdown",
   "metadata": {},
   "source": [
    "# Linear Regression: Hum vs Temp"
   ]
  },
  {
   "cell_type": "code",
   "execution_count": null,
   "metadata": {},
   "outputs": [],
   "source": [
    "import pandas as pd\n",
    "from pathlib import Path\n",
    "import matplotlib.pyplot as plt\n",
    "from sklearn.linear_model import LinearRegression\n",
    "import numpy as np"
   ]
  },
  {
   "cell_type": "code",
   "execution_count": null,
   "metadata": {},
   "outputs": [],
   "source": [
    "x30=df[[\"Temp_pre_30\"]]\n",
    "y30=df[[\"Hum_pre_30\"]]\n",
    "\n",
    "x15=df[[\"Temp_pre_15\"]]\n",
    "y15=df[[\"Hum_pre_15\"]]\n",
    "\n",
    "x7=df[[\"Temp_pre_7\"]]\n",
    "y7=df[[\"Hum_pre_7\"]]"
   ]
  },
  {
   "cell_type": "code",
   "execution_count": null,
   "metadata": {},
   "outputs": [],
   "source": [
    "x30=x30.values.reshape(-1,1)\n",
    "x15=x15.values.reshape(-1,1)\n",
    "x7=x7.values.reshape(-1,1)"
   ]
  },
  {
   "cell_type": "markdown",
   "metadata": {},
   "source": [
    "## Hum vs Temp 30"
   ]
  },
  {
   "cell_type": "code",
   "execution_count": null,
   "metadata": {},
   "outputs": [
    {
     "data": {
      "text/plain": [
       "(13138, 1)"
      ]
     },
     "metadata": {},
     "output_type": "display_data"
    }
   ],
   "source": [
    "x30.shape"
   ]
  },
  {
   "cell_type": "code",
   "execution_count": null,
   "metadata": {},
   "outputs": [],
   "source": [
    "linear_reg=LinearRegression()"
   ]
  },
  {
   "cell_type": "code",
   "execution_count": null,
   "metadata": {},
   "outputs": [
    {
     "data": {
      "text/plain": [
       "LinearRegression()"
      ]
     },
     "metadata": {},
     "output_type": "display_data"
    }
   ],
   "source": [
    "linear_reg.fit(x30,y30)\n"
   ]
  },
  {
   "cell_type": "code",
   "execution_count": null,
   "metadata": {},
   "outputs": [
    {
     "name": "stdout",
     "output_type": "stream",
     "text": [
      "(13138, 1)\n"
     ]
    }
   ],
   "source": [
    "y30_pred=linear_reg.predict(x30)\n",
    "y30_pred\n",
    "print(y30_pred.shape)"
   ]
  },
  {
   "cell_type": "code",
   "execution_count": null,
   "metadata": {},
   "outputs": [
    {
     "data": {
      "image/png": "[encoded data removed]",
      "text/plain": [
       "<Figure size 432x288 with 1 Axes>"
      ]
     },
     "metadata": {},
     "output_type": "display_data"
    }
   ],
   "source": [
    "plt.scatter(x30, y30)\n",
    "plt.plot(x30, y30_pred, color='red')\n",
    "plt.show()"
   ]
  },
  {
   "cell_type": "code",
   "execution_count": null,
   "metadata": {},
   "outputs": [
    {
     "name": "stdout",
     "output_type": "stream",
     "text": [
      "[[-0.78909197]]\n",
      "[70.07821109]\n"
     ]
    }
   ],
   "source": [
    "# The slope\n",
    "slope30=linear_reg.coef_\n",
    "\n",
    "# The y-intercept\n",
    "intercept30=linear_reg.intercept_\n",
    "\n",
    "print(slope30)\n",
    "print(intercept30)"
   ]
  },
  {
   "cell_type": "markdown",
   "metadata": {},
   "source": [
    "## Hum vs Temp 15"
   ]
  },
  {
   "cell_type": "code",
   "execution_count": null,
   "metadata": {},
   "outputs": [
    {
     "data": {
      "text/plain": [
       "(13138, 1)"
      ]
     },
     "metadata": {},
     "output_type": "display_data"
    }
   ],
   "source": [
    "x15.shape"
   ]
  },
  {
   "cell_type": "code",
   "execution_count": null,
   "metadata": {},
   "outputs": [],
   "source": [
    "linear_reg=LinearRegression()"
   ]
  },
  {
   "cell_type": "code",
   "execution_count": null,
   "metadata": {},
   "outputs": [
    {
     "data": {
      "text/plain": [
       "LinearRegression()"
      ]
     },
     "metadata": {},
     "output_type": "display_data"
    }
   ],
   "source": [
    "linear_reg.fit(x15,y15)\n"
   ]
  },
  {
   "cell_type": "code",
   "execution_count": null,
   "metadata": {},
   "outputs": [
    {
     "name": "stdout",
     "output_type": "stream",
     "text": [
      "(13138, 1)\n"
     ]
    }
   ],
   "source": [
    "y15_pred=linear_reg.predict(x15)\n",
    "y15_pred\n",
    "print(y15_pred.shape)"
   ]
  },
  {
   "cell_type": "code",
   "execution_count": null,
   "metadata": {},
   "outputs": [
    {
     "data": {
      "image/png": "[encoded data removed]",
      "text/plain": [
       "<Figure size 432x288 with 1 Axes>"
      ]
     },
     "metadata": {},
     "output_type": "display_data"
    }
   ],
   "source": [
    "plt.scatter(x15, y15)\n",
    "plt.plot(x15, y15_pred, color='red')\n",
    "plt.show()"
   ]
  },
  {
   "cell_type": "code",
   "execution_count": null,
   "metadata": {},
   "outputs": [
    {
     "name": "stdout",
     "output_type": "stream",
     "text": [
      "[[-0.82837782]]\n",
      "[70.22717588]\n"
     ]
    }
   ],
   "source": [
    "# The slope\n",
    "slope15=linear_reg.coef_\n",
    "\n",
    "# The y-intercept\n",
    "intercept15=linear_reg.intercept_\n",
    "\n",
    "print(slope15)\n",
    "print(intercept15)"
   ]
  },
  {
   "cell_type": "markdown",
   "metadata": {},
   "source": [
    "## Hum vs Temp 7"
   ]
  },
  {
   "cell_type": "code",
   "execution_count": null,
   "metadata": {},
   "outputs": [
    {
     "data": {
      "text/plain": [
       "(13138, 1)"
      ]
     },
     "metadata": {},
     "output_type": "display_data"
    }
   ],
   "source": [
    "x7.shape"
   ]
  },
  {
   "cell_type": "code",
   "execution_count": null,
   "metadata": {},
   "outputs": [],
   "source": [
    "linear_reg=LinearRegression()"
   ]
  },
  {
   "cell_type": "code",
   "execution_count": null,
   "metadata": {},
   "outputs": [
    {
     "data": {
      "text/plain": [
       "LinearRegression()"
      ]
     },
     "metadata": {},
     "output_type": "display_data"
    }
   ],
   "source": [
    "linear_reg.fit(x7,y7)\n"
   ]
  },
  {
   "cell_type": "code",
   "execution_count": null,
   "metadata": {},
   "outputs": [
    {
     "name": "stdout",
     "output_type": "stream",
     "text": [
      "(13138, 1)\n"
     ]
    }
   ],
   "source": [
    "y7_pred=linear_reg.predict(x7)\n",
    "y7_pred\n",
    "print(y7_pred.shape)"
   ]
  },
  {
   "cell_type": "code",
   "execution_count": null,
   "metadata": {},
   "outputs": [
    {
     "data": {
      "image/png": "[encoded data removed]",
      "text/plain": [
       "<Figure size 432x288 with 1 Axes>"
      ]
     },
     "metadata": {},
     "output_type": "display_data"
    }
   ],
   "source": [
    "plt.scatter(x7, y7)\n",
    "plt.plot(x7, y7_pred, color='red')\n",
    "plt.show()"
   ]
  },
  {
   "cell_type": "code",
   "execution_count": null,
   "metadata": {},
   "outputs": [
    {
     "name": "stdout",
     "output_type": "stream",
     "text": [
      "[[-0.80916824]]\n",
      "[69.1122535]\n"
     ]
    }
   ],
   "source": [
    "# The slope\n",
    "slope7=linear_reg.coef_\n",
    "\n",
    "# The y-intercept\n",
    "intercept7=linear_reg.intercept_\n",
    "\n",
    "print(slope7)\n",
    "print(intercept7)"
   ]
  },
  {
   "cell_type": "code",
   "execution_count": null,
   "metadata": {},
   "outputs": [],
   "source": []
  },
  {
   "cell_type": "markdown",
   "metadata": {},
   "source": [
    "# Linear Regression: Hum vs Wind"
   ]
  },
  {
   "cell_type": "code",
   "execution_count": null,
   "metadata": {},
   "outputs": [],
   "source": [
    "import pandas as pd\n",
    "from pathlib import Path\n",
    "import matplotlib.pyplot as plt\n",
    "from sklearn.linear_model import LinearRegression\n",
    "import numpy as np"
   ]
  },
  {
   "cell_type": "code",
   "execution_count": null,
   "metadata": {},
   "outputs": [],
   "source": [
    "x30=df[[\"Wind_pre_30\"]]\n",
    "y30=df[[\"Hum_pre_30\"]]\n",
    "\n",
    "x15=df[[\"Wind_pre_15\"]]\n",
    "y15=df[[\"Hum_pre_15\"]]\n",
    "\n",
    "x7=df[[\"Wind_pre_7\"]]\n",
    "y7=df[[\"Hum_pre_7\"]]"
   ]
  },
  {
   "cell_type": "code",
   "execution_count": null,
   "metadata": {},
   "outputs": [],
   "source": [
    "x30=x30.values.reshape(-1,1)\n",
    "x15=x15.values.reshape(-1,1)\n",
    "x7=x7.values.reshape(-1,1)"
   ]
  },
  {
   "cell_type": "markdown",
   "metadata": {},
   "source": [
    "## Hum vs Wind 30"
   ]
  },
  {
   "cell_type": "code",
   "execution_count": null,
   "metadata": {},
   "outputs": [
    {
     "data": {
      "text/plain": [
       "(13138, 1)"
      ]
     },
     "metadata": {},
     "output_type": "display_data"
    }
   ],
   "source": [
    "x30.shape"
   ]
  },
  {
   "cell_type": "code",
   "execution_count": null,
   "metadata": {},
   "outputs": [],
   "source": [
    "linear_reg=LinearRegression()"
   ]
  },
  {
   "cell_type": "code",
   "execution_count": null,
   "metadata": {},
   "outputs": [
    {
     "data": {
      "text/plain": [
       "LinearRegression()"
      ]
     },
     "metadata": {},
     "output_type": "display_data"
    }
   ],
   "source": [
    "linear_reg.fit(x30,y30)\n"
   ]
  },
  {
   "cell_type": "code",
   "execution_count": null,
   "metadata": {},
   "outputs": [
    {
     "name": "stdout",
     "output_type": "stream",
     "text": [
      "(13138, 1)\n"
     ]
    }
   ],
   "source": [
    "y30_pred=linear_reg.predict(x30)\n",
    "y30_pred\n",
    "print(y30_pred.shape)"
   ]
  },
  {
   "cell_type": "code",
   "execution_count": null,
   "metadata": {},
   "outputs": [
    {
     "data": {
      "image/png": "[encoded data removed]",
      "text/plain": [
       "<Figure size 432x288 with 1 Axes>"
      ]
     },
     "metadata": {},
     "output_type": "display_data"
    }
   ],
   "source": [
    "plt.scatter(x30, y30)\n",
    "plt.plot(x30, y30_pred, color='red')\n",
    "plt.show()"
   ]
  },
  {
   "cell_type": "code",
   "execution_count": null,
   "metadata": {},
   "outputs": [
    {
     "name": "stdout",
     "output_type": "stream",
     "text": [
      "[[-3.30183539]]\n",
      "[67.6228206]\n"
     ]
    }
   ],
   "source": [
    "# The slope\n",
    "slope30=linear_reg.coef_\n",
    "\n",
    "# The y-intercept\n",
    "intercept30=linear_reg.intercept_\n",
    "\n",
    "print(slope30)\n",
    "print(intercept30)"
   ]
  },
  {
   "cell_type": "markdown",
   "metadata": {},
   "source": [
    "## Hum vs Wind 15"
   ]
  },
  {
   "cell_type": "code",
   "execution_count": null,
   "metadata": {},
   "outputs": [
    {
     "data": {
      "text/plain": [
       "(13138, 1)"
      ]
     },
     "metadata": {},
     "output_type": "display_data"
    }
   ],
   "source": [
    "x15.shape"
   ]
  },
  {
   "cell_type": "code",
   "execution_count": null,
   "metadata": {},
   "outputs": [],
   "source": [
    "linear_reg=LinearRegression()"
   ]
  },
  {
   "cell_type": "code",
   "execution_count": null,
   "metadata": {},
   "outputs": [
    {
     "data": {
      "text/plain": [
       "LinearRegression()"
      ]
     },
     "metadata": {},
     "output_type": "display_data"
    }
   ],
   "source": [
    "linear_reg.fit(x15,y15)\n"
   ]
  },
  {
   "cell_type": "code",
   "execution_count": null,
   "metadata": {},
   "outputs": [
    {
     "name": "stdout",
     "output_type": "stream",
     "text": [
      "(13138, 1)\n"
     ]
    }
   ],
   "source": [
    "y15_pred=linear_reg.predict(x15)\n",
    "y15_pred\n",
    "print(y15_pred.shape)"
   ]
  },
  {
   "cell_type": "code",
   "execution_count": null,
   "metadata": {},
   "outputs": [
    {
     "data": {
      "image/png": "[encoded data removed]",
      "text/plain": [
       "<Figure size 432x288 with 1 Axes>"
      ]
     },
     "metadata": {},
     "output_type": "display_data"
    }
   ],
   "source": [
    "plt.scatter(x15, y15)\n",
    "plt.plot(x15, y15_pred, color='red')\n",
    "plt.show()"
   ]
  },
  {
   "cell_type": "code",
   "execution_count": null,
   "metadata": {},
   "outputs": [
    {
     "name": "stdout",
     "output_type": "stream",
     "text": [
      "[[-3.03045754]]\n",
      "[65.72766553]\n"
     ]
    }
   ],
   "source": [
    "# The slope\n",
    "slope15=linear_reg.coef_\n",
    "\n",
    "# The y-intercept\n",
    "intercept15=linear_reg.intercept_\n",
    "\n",
    "print(slope15)\n",
    "print(intercept15)"
   ]
  },
  {
   "cell_type": "markdown",
   "metadata": {},
   "source": [
    "## Hum vs Wind 7"
   ]
  },
  {
   "cell_type": "code",
   "execution_count": null,
   "metadata": {},
   "outputs": [
    {
     "data": {
      "text/plain": [
       "(13138, 1)"
      ]
     },
     "metadata": {},
     "output_type": "display_data"
    }
   ],
   "source": [
    "x7.shape"
   ]
  },
  {
   "cell_type": "code",
   "execution_count": null,
   "metadata": {},
   "outputs": [],
   "source": [
    "linear_reg=LinearRegression()"
   ]
  },
  {
   "cell_type": "code",
   "execution_count": null,
   "metadata": {},
   "outputs": [
    {
     "data": {
      "text/plain": [
       "LinearRegression()"
      ]
     },
     "metadata": {},
     "output_type": "display_data"
    }
   ],
   "source": [
    "linear_reg.fit(x7,y7)\n"
   ]
  },
  {
   "cell_type": "code",
   "execution_count": null,
   "metadata": {},
   "outputs": [
    {
     "name": "stdout",
     "output_type": "stream",
     "text": [
      "(13138, 1)\n"
     ]
    }
   ],
   "source": [
    "y7_pred=linear_reg.predict(x7)\n",
    "y7_pred\n",
    "print(y7_pred.shape)"
   ]
  },
  {
   "cell_type": "code",
   "execution_count": null,
   "metadata": {},
   "outputs": [
    {
     "data": {
      "image/png": "[encoded data removed]",
      "text/plain": [
       "<Figure size 432x288 with 1 Axes>"
      ]
     },
     "metadata": {},
     "output_type": "display_data"
    }
   ],
   "source": [
    "plt.scatter(x7, y7)\n",
    "plt.plot(x7, y7_pred, color='red')\n",
    "plt.show()"
   ]
  },
  {
   "cell_type": "code",
   "execution_count": null,
   "metadata": {},
   "outputs": [
    {
     "name": "stdout",
     "output_type": "stream",
     "text": [
      "[[-2.52857234]]\n",
      "[62.91408314]\n"
     ]
    }
   ],
   "source": [
    "# The slope\n",
    "slope7=linear_reg.coef_\n",
    "\n",
    "# The y-intercept\n",
    "intercept7=linear_reg.intercept_\n",
    "\n",
    "print(slope7)\n",
    "print(intercept7)"
   ]
  },
  {
   "cell_type": "markdown",
   "metadata": {},
   "source": [
    "# Linear Regression: Wind vs Temp"
   ]
  },
  {
   "cell_type": "code",
   "execution_count": null,
   "metadata": {},
   "outputs": [],
   "source": [
    "import pandas as pd\n",
    "from pathlib import Path\n",
    "import matplotlib.pyplot as plt\n",
    "from sklearn.linear_model import LinearRegression\n",
    "import numpy as np"
   ]
  },
  {
   "cell_type": "code",
   "execution_count": null,
   "metadata": {},
   "outputs": [],
   "source": [
    "x30=df[[\"Temp_pre_30\"]]\n",
    "y30=df[[\"Wind_pre_30\"]]\n",
    "\n",
    "x15=df[[\"Temp_pre_15\"]]\n",
    "y15=df[[\"Wind_pre_15\"]]\n",
    "\n",
    "x7=df[[\"Temp_pre_7\"]]\n",
    "y7=df[[\"Wind_pre_7\"]]"
   ]
  },
  {
   "cell_type": "code",
   "execution_count": null,
   "metadata": {},
   "outputs": [],
   "source": [
    "x30=x30.values.reshape(-1,1)\n",
    "x15=x15.values.reshape(-1,1)\n",
    "x7=x7.values.reshape(-1,1)"
   ]
  },
  {
   "cell_type": "markdown",
   "metadata": {},
   "source": [
    "## Wind vs Temp 30"
   ]
  },
  {
   "cell_type": "code",
   "execution_count": null,
   "metadata": {},
   "outputs": [
    {
     "data": {
      "text/plain": [
       "(13138, 1)"
      ]
     },
     "metadata": {},
     "output_type": "display_data"
    }
   ],
   "source": [
    "x30.shape"
   ]
  },
  {
   "cell_type": "code",
   "execution_count": null,
   "metadata": {},
   "outputs": [],
   "source": [
    "linear_reg=LinearRegression()"
   ]
  },
  {
   "cell_type": "code",
   "execution_count": null,
   "metadata": {},
   "outputs": [
    {
     "data": {
      "text/plain": [
       "LinearRegression()"
      ]
     },
     "metadata": {},
     "output_type": "display_data"
    }
   ],
   "source": [
    "linear_reg.fit(x30,y30)\n"
   ]
  },
  {
   "cell_type": "code",
   "execution_count": null,
   "metadata": {},
   "outputs": [
    {
     "name": "stdout",
     "output_type": "stream",
     "text": [
      "(13138, 1)\n"
     ]
    }
   ],
   "source": [
    "y30_pred=linear_reg.predict(x30)\n",
    "y30_pred\n",
    "print(y30_pred.shape)"
   ]
  },
  {
   "cell_type": "code",
   "execution_count": null,
   "metadata": {},
   "outputs": [
    {
     "data": {
      "image/png": "[encoded data removed]",
      "text/plain": [
       "<Figure size 432x288 with 1 Axes>"
      ]
     },
     "metadata": {},
     "output_type": "display_data"
    }
   ],
   "source": [
    "plt.scatter(x30, y30)\n",
    "plt.plot(x30, y30_pred, color='red')\n",
    "plt.show()"
   ]
  },
  {
   "cell_type": "code",
   "execution_count": null,
   "metadata": {},
   "outputs": [
    {
     "name": "stdout",
     "output_type": "stream",
     "text": [
      "[[-0.01905899]]\n",
      "[3.41460462]\n"
     ]
    }
   ],
   "source": [
    "# The slope\n",
    "slope30=linear_reg.coef_\n",
    "\n",
    "# The y-intercept\n",
    "intercept30=linear_reg.intercept_\n",
    "\n",
    "print(slope30)\n",
    "print(intercept30)"
   ]
  },
  {
   "cell_type": "markdown",
   "metadata": {},
   "source": [
    "## Wind vs Temp 15"
   ]
  },
  {
   "cell_type": "code",
   "execution_count": null,
   "metadata": {},
   "outputs": [
    {
     "data": {
      "text/plain": [
       "(13138, 1)"
      ]
     },
     "metadata": {},
     "output_type": "display_data"
    }
   ],
   "source": [
    "x15.shape"
   ]
  },
  {
   "cell_type": "code",
   "execution_count": null,
   "metadata": {},
   "outputs": [],
   "source": [
    "linear_reg=LinearRegression()"
   ]
  },
  {
   "cell_type": "code",
   "execution_count": null,
   "metadata": {},
   "outputs": [
    {
     "data": {
      "text/plain": [
       "LinearRegression()"
      ]
     },
     "metadata": {},
     "output_type": "display_data"
    }
   ],
   "source": [
    "linear_reg.fit(x15,y15)\n"
   ]
  },
  {
   "cell_type": "code",
   "execution_count": null,
   "metadata": {},
   "outputs": [
    {
     "name": "stdout",
     "output_type": "stream",
     "text": [
      "(13138, 1)\n"
     ]
    }
   ],
   "source": [
    "y15_pred=linear_reg.predict(x15)\n",
    "y15_pred\n",
    "print(y15_pred.shape)"
   ]
  },
  {
   "cell_type": "code",
   "execution_count": null,
   "metadata": {},
   "outputs": [
    {
     "data": {
      "image/png": "[encoded data removed]",
      "text/plain": [
       "<Figure size 432x288 with 1 Axes>"
      ]
     },
     "metadata": {},
     "output_type": "display_data"
    }
   ],
   "source": [
    "plt.scatter(x15, y15)\n",
    "plt.plot(x15, y15_pred, color='red')\n",
    "plt.show()"
   ]
  },
  {
   "cell_type": "code",
   "execution_count": null,
   "metadata": {},
   "outputs": [
    {
     "name": "stdout",
     "output_type": "stream",
     "text": [
      "[[-0.01839272]]\n",
      "[3.39408555]\n"
     ]
    }
   ],
   "source": [
    "# The slope\n",
    "slope15=linear_reg.coef_\n",
    "\n",
    "# The y-intercept\n",
    "intercept15=linear_reg.intercept_\n",
    "\n",
    "print(slope15)\n",
    "print(intercept15)"
   ]
  },
  {
   "cell_type": "markdown",
   "metadata": {},
   "source": [
    "## Wind vs Temp 7"
   ]
  },
  {
   "cell_type": "code",
   "execution_count": null,
   "metadata": {},
   "outputs": [
    {
     "data": {
      "text/plain": [
       "(13138, 1)"
      ]
     },
     "metadata": {},
     "output_type": "display_data"
    }
   ],
   "source": [
    "x7.shape"
   ]
  },
  {
   "cell_type": "code",
   "execution_count": null,
   "metadata": {},
   "outputs": [],
   "source": [
    "linear_reg=LinearRegression()"
   ]
  },
  {
   "cell_type": "code",
   "execution_count": null,
   "metadata": {},
   "outputs": [
    {
     "data": {
      "text/plain": [
       "LinearRegression()"
      ]
     },
     "metadata": {},
     "output_type": "display_data"
    }
   ],
   "source": [
    "linear_reg.fit(x7,y7)\n"
   ]
  },
  {
   "cell_type": "code",
   "execution_count": null,
   "metadata": {},
   "outputs": [
    {
     "name": "stdout",
     "output_type": "stream",
     "text": [
      "(13138, 1)\n"
     ]
    }
   ],
   "source": [
    "y7_pred=linear_reg.predict(x7)\n",
    "y7_pred\n",
    "print(y7_pred.shape)"
   ]
  },
  {
   "cell_type": "code",
   "execution_count": null,
   "metadata": {},
   "outputs": [
    {
     "data": {
      "image/png": "[encoded data removed]",
      "text/plain": [
       "<Figure size 432x288 with 1 Axes>"
      ]
     },
     "metadata": {},
     "output_type": "display_data"
    }
   ],
   "source": [
    "plt.scatter(x7, y7)\n",
    "plt.plot(x7, y7_pred, color='red')\n",
    "plt.show()"
   ]
  },
  {
   "cell_type": "code",
   "execution_count": null,
   "metadata": {},
   "outputs": [
    {
     "name": "stdout",
     "output_type": "stream",
     "text": [
      "[[-0.01636669]]\n",
      "[3.33041298]\n"
     ]
    }
   ],
   "source": [
    "# The slope\n",
    "slope7=linear_reg.coef_\n",
    "\n",
    "# The y-intercept\n",
    "intercept7=linear_reg.intercept_\n",
    "\n",
    "print(slope7)\n",
    "print(intercept7)"
   ]
  }
 ],
 "metadata": {
  "interpreter": {
   "hash": "e66d4f19f3c2764744e54839c2f25d11eaced345ba6d8bb73172f06700b9b93c"
  },
  "kernelspec": {
   "display_name": "Python 3.7.11 ('mlenv')",
   "language": "python",
   "name": "python3"
  },
  "language_info": {
   "codemirror_mode": {
    "name": "ipython",
    "version": 3
   },
   "file_extension": ".py",
   "mimetype": "text/x-python",
   "name": "python",
   "nbconvert_exporter": "python",
   "pygments_lexer": "ipython3",
   "version": "3.7.11"
  },
  "orig_nbformat": 4
 },
 "nbformat": 4,
 "nbformat_minor": 2
}
