{
 "cells": [
  {
   "cell_type": "markdown",
   "metadata": {},
   "source": [
    "### Easy Ensemble Classifier"
   ]
  },
  {
   "cell_type": "code",
   "execution_count": 1,
   "metadata": {},
   "outputs": [
    {
     "data": {
      "text/html": [
       "<div>\n",
       "<style scoped>\n",
       "    .dataframe tbody tr th:only-of-type {\n",
       "        vertical-align: middle;\n",
       "    }\n",
       "\n",
       "    .dataframe tbody tr th {\n",
       "        vertical-align: top;\n",
       "    }\n",
       "\n",
       "    .dataframe thead th {\n",
       "        text-align: right;\n",
       "    }\n",
       "</style>\n",
       "<table border=\"1\" class=\"dataframe\">\n",
       "  <thead>\n",
       "    <tr style=\"text-align: right;\">\n",
       "      <th></th>\n",
       "      <th>fire_id</th>\n",
       "      <th>state_no</th>\n",
       "      <th>discovery_month_no</th>\n",
       "      <th>Temp_pre_7</th>\n",
       "      <th>Wind_pre_7</th>\n",
       "      <th>Hum_pre_7</th>\n",
       "      <th>fire_size_bin_no</th>\n",
       "      <th>medium_plus</th>\n",
       "    </tr>\n",
       "  </thead>\n",
       "  <tbody>\n",
       "    <tr>\n",
       "      <th>0</th>\n",
       "      <td>3</td>\n",
       "      <td>29</td>\n",
       "      <td>6</td>\n",
       "      <td>18.142564</td>\n",
       "      <td>3.671282</td>\n",
       "      <td>35.353846</td>\n",
       "      <td>1</td>\n",
       "      <td>0</td>\n",
       "    </tr>\n",
       "    <tr>\n",
       "      <th>1</th>\n",
       "      <td>24</td>\n",
       "      <td>22</td>\n",
       "      <td>4</td>\n",
       "      <td>15.604790</td>\n",
       "      <td>1.775904</td>\n",
       "      <td>59.614458</td>\n",
       "      <td>3</td>\n",
       "      <td>0</td>\n",
       "    </tr>\n",
       "    <tr>\n",
       "      <th>2</th>\n",
       "      <td>31</td>\n",
       "      <td>25</td>\n",
       "      <td>4</td>\n",
       "      <td>-4.273834</td>\n",
       "      <td>6.658621</td>\n",
       "      <td>71.173116</td>\n",
       "      <td>1</td>\n",
       "      <td>0</td>\n",
       "    </tr>\n",
       "    <tr>\n",
       "      <th>3</th>\n",
       "      <td>35</td>\n",
       "      <td>8</td>\n",
       "      <td>10</td>\n",
       "      <td>18.188679</td>\n",
       "      <td>2.211429</td>\n",
       "      <td>60.328571</td>\n",
       "      <td>3</td>\n",
       "      <td>0</td>\n",
       "    </tr>\n",
       "    <tr>\n",
       "      <th>4</th>\n",
       "      <td>36</td>\n",
       "      <td>28</td>\n",
       "      <td>7</td>\n",
       "      <td>34.893333</td>\n",
       "      <td>3.695833</td>\n",
       "      <td>18.208333</td>\n",
       "      <td>5</td>\n",
       "      <td>1</td>\n",
       "    </tr>\n",
       "    <tr>\n",
       "      <th>...</th>\n",
       "      <td>...</td>\n",
       "      <td>...</td>\n",
       "      <td>...</td>\n",
       "      <td>...</td>\n",
       "      <td>...</td>\n",
       "      <td>...</td>\n",
       "      <td>...</td>\n",
       "      <td>...</td>\n",
       "    </tr>\n",
       "    <tr>\n",
       "      <th>13133</th>\n",
       "      <td>55336</td>\n",
       "      <td>39</td>\n",
       "      <td>8</td>\n",
       "      <td>28.719917</td>\n",
       "      <td>3.224274</td>\n",
       "      <td>55.426471</td>\n",
       "      <td>5</td>\n",
       "      <td>1</td>\n",
       "    </tr>\n",
       "    <tr>\n",
       "      <th>13134</th>\n",
       "      <td>55337</td>\n",
       "      <td>39</td>\n",
       "      <td>10</td>\n",
       "      <td>24.221869</td>\n",
       "      <td>1.563817</td>\n",
       "      <td>63.196819</td>\n",
       "      <td>5</td>\n",
       "      <td>1</td>\n",
       "    </tr>\n",
       "    <tr>\n",
       "      <th>13135</th>\n",
       "      <td>55341</td>\n",
       "      <td>33</td>\n",
       "      <td>9</td>\n",
       "      <td>10.734328</td>\n",
       "      <td>1.835821</td>\n",
       "      <td>67.266304</td>\n",
       "      <td>6</td>\n",
       "      <td>1</td>\n",
       "    </tr>\n",
       "    <tr>\n",
       "      <th>13136</th>\n",
       "      <td>55342</td>\n",
       "      <td>23</td>\n",
       "      <td>3</td>\n",
       "      <td>7.678571</td>\n",
       "      <td>3.803571</td>\n",
       "      <td>42.638384</td>\n",
       "      <td>5</td>\n",
       "      <td>1</td>\n",
       "    </tr>\n",
       "    <tr>\n",
       "      <th>13137</th>\n",
       "      <td>55343</td>\n",
       "      <td>10</td>\n",
       "      <td>10</td>\n",
       "      <td>15.732906</td>\n",
       "      <td>1.405983</td>\n",
       "      <td>56.257500</td>\n",
       "      <td>5</td>\n",
       "      <td>1</td>\n",
       "    </tr>\n",
       "  </tbody>\n",
       "</table>\n",
       "<p>13138 rows × 8 columns</p>\n",
       "</div>"
      ],
      "text/plain": [
       "       fire_id  state_no  discovery_month_no  Temp_pre_7  Wind_pre_7  \\\n",
       "0            3        29                   6   18.142564    3.671282   \n",
       "1           24        22                   4   15.604790    1.775904   \n",
       "2           31        25                   4   -4.273834    6.658621   \n",
       "3           35         8                  10   18.188679    2.211429   \n",
       "4           36        28                   7   34.893333    3.695833   \n",
       "...        ...       ...                 ...         ...         ...   \n",
       "13133    55336        39                   8   28.719917    3.224274   \n",
       "13134    55337        39                  10   24.221869    1.563817   \n",
       "13135    55341        33                   9   10.734328    1.835821   \n",
       "13136    55342        23                   3    7.678571    3.803571   \n",
       "13137    55343        10                  10   15.732906    1.405983   \n",
       "\n",
       "       Hum_pre_7  fire_size_bin_no  medium_plus  \n",
       "0      35.353846                 1            0  \n",
       "1      59.614458                 3            0  \n",
       "2      71.173116                 1            0  \n",
       "3      60.328571                 3            0  \n",
       "4      18.208333                 5            1  \n",
       "...          ...               ...          ...  \n",
       "13133  55.426471                 5            1  \n",
       "13134  63.196819                 5            1  \n",
       "13135  67.266304                 6            1  \n",
       "13136  42.638384                 5            1  \n",
       "13137  56.257500                 5            1  \n",
       "\n",
       "[13138 rows x 8 columns]"
      ]
     },
     "execution_count": 1,
     "metadata": {},
     "output_type": "execute_result"
    }
   ],
   "source": [
    "import numpy as np\n",
    "import pandas as pd\n",
    "from sklearn.model_selection import train_test_split\n",
    "from sklearn.preprocessing import StandardScaler\n",
    "from sklearn.metrics import balanced_accuracy_score\n",
    "from sklearn.preprocessing import OneHotEncoder\n",
    "from pathlib import Path\n",
    "from sklearn.preprocessing import StandardScaler\n",
    "from imblearn.ensemble import EasyEnsembleClassifier\n",
    "\n",
    "from sklearn.metrics import confusion_matrix\n",
    "from imblearn.metrics import classification_report_imbalanced\n",
    "\n",
    "\n",
    "# Import our input dataset\n",
    "data = Path('Resources_k/df7_k.csv')\n",
    "df = pd.read_csv(data)\n",
    "df"
   ]
  },
  {
   "cell_type": "code",
   "execution_count": 2,
   "metadata": {},
   "outputs": [],
   "source": [
    "df=df.drop(columns=['fire_id', 'fire_size_bin_no'])"
   ]
  },
  {
   "cell_type": "code",
   "execution_count": 3,
   "metadata": {},
   "outputs": [],
   "source": [
    "# Remove loan status target from features data\n",
    "target=df.medium_plus\n",
    "y=target\n",
    "# X = df.loc[:, df.columns !=target]\n",
    "X=df.drop(columns=['medium_plus']).values\n",
    "\n",
    "# Split training/test datasets\n",
    "X_train, X_test, y_train, y_test = train_test_split(X, y, random_state=1)\n",
    "\n",
    "# Create a StandardScaler instance\n",
    "scaler = StandardScaler()\n",
    "\n",
    "# Fit the StandardScaler\n",
    "X_scaler = scaler.fit(X_train)\n",
    "\n",
    "# Scale the data\n",
    "X_train_scaled = X_scaler.transform(X_train)\n",
    "X_test_scaled = X_scaler.transform(X_test)"
   ]
  },
  {
   "cell_type": "code",
   "execution_count": 4,
   "metadata": {},
   "outputs": [
    {
     "data": {
      "text/plain": [
       "array([[ 1.49691652,  0.33288158,  1.81061152,  0.42225824, -2.42711523],\n",
       "       [ 1.79469202, -0.79577714, -1.3073249 ,  0.76553512,  1.30590304],\n",
       "       [-1.10861914,  0.70910116,  0.41341934, -0.78454843,  1.48544833],\n",
       "       ...,\n",
       "       [ 1.19914102,  2.21397946, -0.74605266, -0.17139494,  0.16396625],\n",
       "       [-1.10861914,  0.33288158, -0.22001741,  0.53030658,  1.40623668],\n",
       "       [-0.88528751,  1.46154031,  0.3632356 , -0.90650679,  0.68645195]])"
      ]
     },
     "execution_count": 4,
     "metadata": {},
     "output_type": "execute_result"
    }
   ],
   "source": [
    "X_test_scaled"
   ]
  },
  {
   "cell_type": "code",
   "execution_count": 5,
   "metadata": {},
   "outputs": [],
   "source": [
    "# Train the EasyEnsembleClassifier\n",
    "\n",
    "model = EasyEnsembleClassifier(n_estimators=10, random_state=78) \n",
    "\n",
    "#Fitting the model\n",
    "model = model.fit(X_train_scaled, y_train)\n",
    "\n",
    "# Making predictions using the testing data.\n",
    "y_pred = model.predict(X_test_scaled)"
   ]
  },
  {
   "cell_type": "code",
   "execution_count": 6,
   "metadata": {},
   "outputs": [
    {
     "data": {
      "text/plain": [
       "0.7576531728665208"
      ]
     },
     "execution_count": 6,
     "metadata": {},
     "output_type": "execute_result"
    }
   ],
   "source": [
    "# Calculated the balanced accuracy score\n",
    "ee_acc_score = balanced_accuracy_score(y_test, y_pred)\n",
    "ee_acc_score"
   ]
  },
  {
   "cell_type": "code",
   "execution_count": 7,
   "metadata": {},
   "outputs": [],
   "source": [
    "# Calculating the confusion matrix\n",
    "cm = confusion_matrix(y_test, y_pred)\n",
    "cm_df = pd.DataFrame(\n",
    "    cm, index=[\"Actual less than medium\", \"Actual medium plus\"], columns=[\"Predicted less than medium\", \"Predicted medium +\"])"
   ]
  },
  {
   "cell_type": "code",
   "execution_count": 8,
   "metadata": {},
   "outputs": [
    {
     "name": "stdout",
     "output_type": "stream",
     "text": [
      "Easy Ensemble Classifier\n",
      "Confusion Matrix\n"
     ]
    },
    {
     "data": {
      "text/html": [
       "<div>\n",
       "<style scoped>\n",
       "    .dataframe tbody tr th:only-of-type {\n",
       "        vertical-align: middle;\n",
       "    }\n",
       "\n",
       "    .dataframe tbody tr th {\n",
       "        vertical-align: top;\n",
       "    }\n",
       "\n",
       "    .dataframe thead th {\n",
       "        text-align: right;\n",
       "    }\n",
       "</style>\n",
       "<table border=\"1\" class=\"dataframe\">\n",
       "  <thead>\n",
       "    <tr style=\"text-align: right;\">\n",
       "      <th></th>\n",
       "      <th>Predicted less than medium</th>\n",
       "      <th>Predicted medium +</th>\n",
       "    </tr>\n",
       "  </thead>\n",
       "  <tbody>\n",
       "    <tr>\n",
       "      <th>Actual less than medium</th>\n",
       "      <td>1783</td>\n",
       "      <td>502</td>\n",
       "    </tr>\n",
       "    <tr>\n",
       "      <th>Actual medium plus</th>\n",
       "      <td>265</td>\n",
       "      <td>735</td>\n",
       "    </tr>\n",
       "  </tbody>\n",
       "</table>\n",
       "</div>"
      ],
      "text/plain": [
       "                         Predicted less than medium  Predicted medium +\n",
       "Actual less than medium                        1783                 502\n",
       "Actual medium plus                              265                 735"
      ]
     },
     "metadata": {},
     "output_type": "display_data"
    },
    {
     "name": "stdout",
     "output_type": "stream",
     "text": [
      "Accuracy Score : 0.7576531728665208\n",
      "Classification Report\n",
      "                   pre       rec       spe        f1       geo       iba       sup\n",
      "\n",
      "          0       0.87      0.78      0.73      0.82      0.76      0.58      2285\n",
      "          1       0.59      0.73      0.78      0.66      0.76      0.57      1000\n",
      "\n",
      "avg / total       0.79      0.77      0.75      0.77      0.76      0.57      3285\n",
      "\n"
     ]
    }
   ],
   "source": [
    "# Displaying Easy Ensemble Classifier\n",
    "print(\"Easy Ensemble Classifier\")\n",
    "print(\"Confusion Matrix\")\n",
    "display(cm_df)\n",
    "print(f\"Accuracy Score : {ee_acc_score}\")\n",
    "print(\"Classification Report\")\n",
    "print(classification_report_imbalanced(y_test, y_pred))"
   ]
  },
  {
   "cell_type": "code",
   "execution_count": 17,
   "metadata": {},
   "outputs": [
    {
     "data": {
      "text/html": [
       "<div>\n",
       "<style scoped>\n",
       "    .dataframe tbody tr th:only-of-type {\n",
       "        vertical-align: middle;\n",
       "    }\n",
       "\n",
       "    .dataframe tbody tr th {\n",
       "        vertical-align: top;\n",
       "    }\n",
       "\n",
       "    .dataframe thead th {\n",
       "        text-align: right;\n",
       "    }\n",
       "</style>\n",
       "<table border=\"1\" class=\"dataframe\">\n",
       "  <thead>\n",
       "    <tr style=\"text-align: right;\">\n",
       "      <th></th>\n",
       "      <th>Prediction</th>\n",
       "      <th>Actual</th>\n",
       "    </tr>\n",
       "  </thead>\n",
       "  <tbody>\n",
       "    <tr>\n",
       "      <th>0</th>\n",
       "      <td>1</td>\n",
       "      <td>0</td>\n",
       "    </tr>\n",
       "    <tr>\n",
       "      <th>1</th>\n",
       "      <td>0</td>\n",
       "      <td>0</td>\n",
       "    </tr>\n",
       "    <tr>\n",
       "      <th>2</th>\n",
       "      <td>0</td>\n",
       "      <td>0</td>\n",
       "    </tr>\n",
       "    <tr>\n",
       "      <th>3</th>\n",
       "      <td>0</td>\n",
       "      <td>0</td>\n",
       "    </tr>\n",
       "    <tr>\n",
       "      <th>4</th>\n",
       "      <td>0</td>\n",
       "      <td>0</td>\n",
       "    </tr>\n",
       "    <tr>\n",
       "      <th>...</th>\n",
       "      <td>...</td>\n",
       "      <td>...</td>\n",
       "    </tr>\n",
       "    <tr>\n",
       "      <th>3280</th>\n",
       "      <td>0</td>\n",
       "      <td>0</td>\n",
       "    </tr>\n",
       "    <tr>\n",
       "      <th>3281</th>\n",
       "      <td>0</td>\n",
       "      <td>0</td>\n",
       "    </tr>\n",
       "    <tr>\n",
       "      <th>3282</th>\n",
       "      <td>0</td>\n",
       "      <td>0</td>\n",
       "    </tr>\n",
       "    <tr>\n",
       "      <th>3283</th>\n",
       "      <td>0</td>\n",
       "      <td>1</td>\n",
       "    </tr>\n",
       "    <tr>\n",
       "      <th>3284</th>\n",
       "      <td>0</td>\n",
       "      <td>0</td>\n",
       "    </tr>\n",
       "  </tbody>\n",
       "</table>\n",
       "<p>3285 rows × 2 columns</p>\n",
       "</div>"
      ],
      "text/plain": [
       "      Prediction  Actual\n",
       "0              1       0\n",
       "1              0       0\n",
       "2              0       0\n",
       "3              0       0\n",
       "4              0       0\n",
       "...          ...     ...\n",
       "3280           0       0\n",
       "3281           0       0\n",
       "3282           0       0\n",
       "3283           0       1\n",
       "3284           0       0\n",
       "\n",
       "[3285 rows x 2 columns]"
      ]
     },
     "execution_count": 17,
     "metadata": {},
     "output_type": "execute_result"
    }
   ],
   "source": [
    "results = pd.DataFrame({\"Prediction\": y_pred, \"Actual\": y_test}).reset_index(drop=True)\n",
    "results"
   ]
  },
  {
   "cell_type": "code",
   "execution_count": 21,
   "metadata": {},
   "outputs": [],
   "source": [
    "import joblib\n",
    "joblib.dump(model, 'model_joblib_ee.joblib')\n",
    "job=joblib.load('model_joblib_ee.joblib')"
   ]
  },
  {
   "cell_type": "code",
   "execution_count": 26,
   "metadata": {},
   "outputs": [
    {
     "data": {
      "text/plain": [
       "array([[ 0.67803388, -0.04333799,  0.12115669,  0.49750246, -1.2234262 ]])"
      ]
     },
     "execution_count": 26,
     "metadata": {},
     "output_type": "execute_result"
    }
   ],
   "source": [
    "x1=X_scaler.transform([[29, 6, 18.14, 3.67, 35.35]])\n",
    "x1"
   ]
  },
  {
   "cell_type": "code",
   "execution_count": 14,
   "metadata": {},
   "outputs": [
    {
     "data": {
      "text/plain": [
       "array([1], dtype=int64)"
      ]
     },
     "execution_count": 14,
     "metadata": {},
     "output_type": "execute_result"
    }
   ],
   "source": [
    "model.predict(x1)"
   ]
  },
  {
   "cell_type": "code",
   "execution_count": 15,
   "metadata": {},
   "outputs": [],
   "source": [
    "x2=X_scaler.transform([[22, 4, 15.6, 1.77, 59.61]])"
   ]
  },
  {
   "cell_type": "code",
   "execution_count": 16,
   "metadata": {},
   "outputs": [
    {
     "data": {
      "text/plain": [
       "array([0], dtype=int64)"
      ]
     },
     "execution_count": 16,
     "metadata": {},
     "output_type": "execute_result"
    }
   ],
   "source": [
    "model.predict(x2)"
   ]
  },
  {
   "cell_type": "code",
   "execution_count": 22,
   "metadata": {},
   "outputs": [
    {
     "data": {
      "text/plain": [
       "array([[ 0.38025838, -0.79577714, -2.58939372,  2.89094514,  0.96901776]])"
      ]
     },
     "execution_count": 22,
     "metadata": {},
     "output_type": "execute_result"
    }
   ],
   "source": [
    "x3=X_scaler.transform([[25, 4, -4.27, 6.65, 71.17]])\n",
    "x3"
   ]
  },
  {
   "cell_type": "code",
   "execution_count": 20,
   "metadata": {},
   "outputs": [
    {
     "data": {
      "text/plain": [
       "array([0], dtype=int64)"
      ]
     },
     "execution_count": 20,
     "metadata": {},
     "output_type": "execute_result"
    }
   ],
   "source": [
    "model.predict(x3)"
   ]
  },
  {
   "cell_type": "code",
   "execution_count": 24,
   "metadata": {},
   "outputs": [
    {
     "data": {
      "text/plain": [
       "array([0], dtype=int64)"
      ]
     },
     "execution_count": 24,
     "metadata": {},
     "output_type": "execute_result"
    }
   ],
   "source": [
    "job.predict([[ 0.38025838, -0.79577714, -2.58939372,  2.89094514,  0.96901776]])"
   ]
  },
  {
   "cell_type": "code",
   "execution_count": 27,
   "metadata": {},
   "outputs": [
    {
     "data": {
      "text/plain": [
       "array([1], dtype=int64)"
      ]
     },
     "execution_count": 27,
     "metadata": {},
     "output_type": "execute_result"
    }
   ],
   "source": [
    "job.predict([[ 0.67803388, -0.04333799,  0.12115669,  0.49750246, -1.2234262 ]])"
   ]
  },
  {
   "cell_type": "markdown",
   "metadata": {},
   "source": [
    "-------------------------------------"
   ]
  },
  {
   "cell_type": "markdown",
   "metadata": {},
   "source": [
    "# Create X-Scalar"
   ]
  },
  {
   "cell_type": "code",
   "execution_count": null,
   "metadata": {},
   "outputs": [
    {
     "data": {
      "text/html": [
       "<div>\n",
       "<style scoped>\n",
       "    .dataframe tbody tr th:only-of-type {\n",
       "        vertical-align: middle;\n",
       "    }\n",
       "\n",
       "    .dataframe tbody tr th {\n",
       "        vertical-align: top;\n",
       "    }\n",
       "\n",
       "    .dataframe thead th {\n",
       "        text-align: right;\n",
       "    }\n",
       "</style>\n",
       "<table border=\"1\" class=\"dataframe\">\n",
       "  <thead>\n",
       "    <tr style=\"text-align: right;\">\n",
       "      <th></th>\n",
       "      <th>fire_id</th>\n",
       "      <th>state_no</th>\n",
       "      <th>discovery_month_no</th>\n",
       "      <th>Temp_pre_7</th>\n",
       "      <th>Wind_pre_7</th>\n",
       "      <th>Hum_pre_7</th>\n",
       "      <th>fire_size_bin_no</th>\n",
       "      <th>medium_plus</th>\n",
       "    </tr>\n",
       "  </thead>\n",
       "  <tbody>\n",
       "    <tr>\n",
       "      <th>0</th>\n",
       "      <td>3</td>\n",
       "      <td>29</td>\n",
       "      <td>6</td>\n",
       "      <td>18.142564</td>\n",
       "      <td>3.671282</td>\n",
       "      <td>35.353846</td>\n",
       "      <td>1</td>\n",
       "      <td>0</td>\n",
       "    </tr>\n",
       "    <tr>\n",
       "      <th>1</th>\n",
       "      <td>24</td>\n",
       "      <td>22</td>\n",
       "      <td>4</td>\n",
       "      <td>15.604790</td>\n",
       "      <td>1.775904</td>\n",
       "      <td>59.614458</td>\n",
       "      <td>3</td>\n",
       "      <td>0</td>\n",
       "    </tr>\n",
       "    <tr>\n",
       "      <th>2</th>\n",
       "      <td>31</td>\n",
       "      <td>25</td>\n",
       "      <td>4</td>\n",
       "      <td>-4.273834</td>\n",
       "      <td>6.658621</td>\n",
       "      <td>71.173116</td>\n",
       "      <td>1</td>\n",
       "      <td>0</td>\n",
       "    </tr>\n",
       "    <tr>\n",
       "      <th>3</th>\n",
       "      <td>35</td>\n",
       "      <td>8</td>\n",
       "      <td>10</td>\n",
       "      <td>18.188679</td>\n",
       "      <td>2.211429</td>\n",
       "      <td>60.328571</td>\n",
       "      <td>3</td>\n",
       "      <td>0</td>\n",
       "    </tr>\n",
       "    <tr>\n",
       "      <th>4</th>\n",
       "      <td>36</td>\n",
       "      <td>28</td>\n",
       "      <td>7</td>\n",
       "      <td>34.893333</td>\n",
       "      <td>3.695833</td>\n",
       "      <td>18.208333</td>\n",
       "      <td>5</td>\n",
       "      <td>1</td>\n",
       "    </tr>\n",
       "    <tr>\n",
       "      <th>...</th>\n",
       "      <td>...</td>\n",
       "      <td>...</td>\n",
       "      <td>...</td>\n",
       "      <td>...</td>\n",
       "      <td>...</td>\n",
       "      <td>...</td>\n",
       "      <td>...</td>\n",
       "      <td>...</td>\n",
       "    </tr>\n",
       "    <tr>\n",
       "      <th>13133</th>\n",
       "      <td>55336</td>\n",
       "      <td>39</td>\n",
       "      <td>8</td>\n",
       "      <td>28.719917</td>\n",
       "      <td>3.224274</td>\n",
       "      <td>55.426471</td>\n",
       "      <td>5</td>\n",
       "      <td>1</td>\n",
       "    </tr>\n",
       "    <tr>\n",
       "      <th>13134</th>\n",
       "      <td>55337</td>\n",
       "      <td>39</td>\n",
       "      <td>10</td>\n",
       "      <td>24.221869</td>\n",
       "      <td>1.563817</td>\n",
       "      <td>63.196819</td>\n",
       "      <td>5</td>\n",
       "      <td>1</td>\n",
       "    </tr>\n",
       "    <tr>\n",
       "      <th>13135</th>\n",
       "      <td>55341</td>\n",
       "      <td>33</td>\n",
       "      <td>9</td>\n",
       "      <td>10.734328</td>\n",
       "      <td>1.835821</td>\n",
       "      <td>67.266304</td>\n",
       "      <td>6</td>\n",
       "      <td>1</td>\n",
       "    </tr>\n",
       "    <tr>\n",
       "      <th>13136</th>\n",
       "      <td>55342</td>\n",
       "      <td>23</td>\n",
       "      <td>3</td>\n",
       "      <td>7.678571</td>\n",
       "      <td>3.803571</td>\n",
       "      <td>42.638384</td>\n",
       "      <td>5</td>\n",
       "      <td>1</td>\n",
       "    </tr>\n",
       "    <tr>\n",
       "      <th>13137</th>\n",
       "      <td>55343</td>\n",
       "      <td>10</td>\n",
       "      <td>10</td>\n",
       "      <td>15.732906</td>\n",
       "      <td>1.405983</td>\n",
       "      <td>56.257500</td>\n",
       "      <td>5</td>\n",
       "      <td>1</td>\n",
       "    </tr>\n",
       "  </tbody>\n",
       "</table>\n",
       "<p>13138 rows × 8 columns</p>\n",
       "</div>"
      ],
      "text/plain": [
       "       fire_id  state_no  discovery_month_no  Temp_pre_7  Wind_pre_7  \\\n",
       "0            3        29                   6   18.142564    3.671282   \n",
       "1           24        22                   4   15.604790    1.775904   \n",
       "2           31        25                   4   -4.273834    6.658621   \n",
       "3           35         8                  10   18.188679    2.211429   \n",
       "4           36        28                   7   34.893333    3.695833   \n",
       "...        ...       ...                 ...         ...         ...   \n",
       "13133    55336        39                   8   28.719917    3.224274   \n",
       "13134    55337        39                  10   24.221869    1.563817   \n",
       "13135    55341        33                   9   10.734328    1.835821   \n",
       "13136    55342        23                   3    7.678571    3.803571   \n",
       "13137    55343        10                  10   15.732906    1.405983   \n",
       "\n",
       "       Hum_pre_7  fire_size_bin_no  medium_plus  \n",
       "0      35.353846                 1            0  \n",
       "1      59.614458                 3            0  \n",
       "2      71.173116                 1            0  \n",
       "3      60.328571                 3            0  \n",
       "4      18.208333                 5            1  \n",
       "...          ...               ...          ...  \n",
       "13133  55.426471                 5            1  \n",
       "13134  63.196819                 5            1  \n",
       "13135  67.266304                 6            1  \n",
       "13136  42.638384                 5            1  \n",
       "13137  56.257500                 5            1  \n",
       "\n",
       "[13138 rows x 8 columns]"
      ]
     },
     "metadata": {},
     "output_type": "display_data"
    }
   ],
   "source": [
    "\n",
    "import numpy as np\n",
    "import pandas as pd\n",
    "from sklearn.model_selection import train_test_split\n",
    "from sklearn.preprocessing import StandardScaler\n",
    "from sklearn.metrics import balanced_accuracy_score\n",
    "from sklearn.preprocessing import OneHotEncoder\n",
    "from pathlib import Path\n",
    "from sklearn.preprocessing import StandardScaler\n",
    "from imblearn.ensemble import EasyEnsembleClassifier\n",
    "import joblib\n",
    "\n",
    "from sklearn.metrics import confusion_matrix\n",
    "from imblearn.metrics import classification_report_imbalanced\n",
    "\n",
    "\n",
    "# Import our input dataset\n",
    "data = Path('Resources_k/df7_k.csv')\n",
    "df = pd.read_csv(data)\n",
    "df"
   ]
  },
  {
   "cell_type": "code",
   "execution_count": null,
   "metadata": {},
   "outputs": [
    {
     "data": {
      "text/html": [
       "<div>\n",
       "<style scoped>\n",
       "    .dataframe tbody tr th:only-of-type {\n",
       "        vertical-align: middle;\n",
       "    }\n",
       "\n",
       "    .dataframe tbody tr th {\n",
       "        vertical-align: top;\n",
       "    }\n",
       "\n",
       "    .dataframe thead th {\n",
       "        text-align: right;\n",
       "    }\n",
       "</style>\n",
       "<table border=\"1\" class=\"dataframe\">\n",
       "  <thead>\n",
       "    <tr style=\"text-align: right;\">\n",
       "      <th></th>\n",
       "      <th>state_no</th>\n",
       "      <th>discovery_month_no</th>\n",
       "      <th>Temp_pre_7</th>\n",
       "      <th>Wind_pre_7</th>\n",
       "      <th>Hum_pre_7</th>\n",
       "      <th>medium_plus</th>\n",
       "    </tr>\n",
       "  </thead>\n",
       "  <tbody>\n",
       "    <tr>\n",
       "      <th>0</th>\n",
       "      <td>29</td>\n",
       "      <td>6</td>\n",
       "      <td>18.142564</td>\n",
       "      <td>3.671282</td>\n",
       "      <td>35.353846</td>\n",
       "      <td>0</td>\n",
       "    </tr>\n",
       "    <tr>\n",
       "      <th>1</th>\n",
       "      <td>22</td>\n",
       "      <td>4</td>\n",
       "      <td>15.604790</td>\n",
       "      <td>1.775904</td>\n",
       "      <td>59.614458</td>\n",
       "      <td>0</td>\n",
       "    </tr>\n",
       "    <tr>\n",
       "      <th>2</th>\n",
       "      <td>25</td>\n",
       "      <td>4</td>\n",
       "      <td>-4.273834</td>\n",
       "      <td>6.658621</td>\n",
       "      <td>71.173116</td>\n",
       "      <td>0</td>\n",
       "    </tr>\n",
       "    <tr>\n",
       "      <th>3</th>\n",
       "      <td>8</td>\n",
       "      <td>10</td>\n",
       "      <td>18.188679</td>\n",
       "      <td>2.211429</td>\n",
       "      <td>60.328571</td>\n",
       "      <td>0</td>\n",
       "    </tr>\n",
       "    <tr>\n",
       "      <th>4</th>\n",
       "      <td>28</td>\n",
       "      <td>7</td>\n",
       "      <td>34.893333</td>\n",
       "      <td>3.695833</td>\n",
       "      <td>18.208333</td>\n",
       "      <td>1</td>\n",
       "    </tr>\n",
       "    <tr>\n",
       "      <th>...</th>\n",
       "      <td>...</td>\n",
       "      <td>...</td>\n",
       "      <td>...</td>\n",
       "      <td>...</td>\n",
       "      <td>...</td>\n",
       "      <td>...</td>\n",
       "    </tr>\n",
       "    <tr>\n",
       "      <th>13133</th>\n",
       "      <td>39</td>\n",
       "      <td>8</td>\n",
       "      <td>28.719917</td>\n",
       "      <td>3.224274</td>\n",
       "      <td>55.426471</td>\n",
       "      <td>1</td>\n",
       "    </tr>\n",
       "    <tr>\n",
       "      <th>13134</th>\n",
       "      <td>39</td>\n",
       "      <td>10</td>\n",
       "      <td>24.221869</td>\n",
       "      <td>1.563817</td>\n",
       "      <td>63.196819</td>\n",
       "      <td>1</td>\n",
       "    </tr>\n",
       "    <tr>\n",
       "      <th>13135</th>\n",
       "      <td>33</td>\n",
       "      <td>9</td>\n",
       "      <td>10.734328</td>\n",
       "      <td>1.835821</td>\n",
       "      <td>67.266304</td>\n",
       "      <td>1</td>\n",
       "    </tr>\n",
       "    <tr>\n",
       "      <th>13136</th>\n",
       "      <td>23</td>\n",
       "      <td>3</td>\n",
       "      <td>7.678571</td>\n",
       "      <td>3.803571</td>\n",
       "      <td>42.638384</td>\n",
       "      <td>1</td>\n",
       "    </tr>\n",
       "    <tr>\n",
       "      <th>13137</th>\n",
       "      <td>10</td>\n",
       "      <td>10</td>\n",
       "      <td>15.732906</td>\n",
       "      <td>1.405983</td>\n",
       "      <td>56.257500</td>\n",
       "      <td>1</td>\n",
       "    </tr>\n",
       "  </tbody>\n",
       "</table>\n",
       "<p>13138 rows × 6 columns</p>\n",
       "</div>"
      ],
      "text/plain": [
       "       state_no  discovery_month_no  Temp_pre_7  Wind_pre_7  Hum_pre_7  \\\n",
       "0            29                   6   18.142564    3.671282  35.353846   \n",
       "1            22                   4   15.604790    1.775904  59.614458   \n",
       "2            25                   4   -4.273834    6.658621  71.173116   \n",
       "3             8                  10   18.188679    2.211429  60.328571   \n",
       "4            28                   7   34.893333    3.695833  18.208333   \n",
       "...         ...                 ...         ...         ...        ...   \n",
       "13133        39                   8   28.719917    3.224274  55.426471   \n",
       "13134        39                  10   24.221869    1.563817  63.196819   \n",
       "13135        33                   9   10.734328    1.835821  67.266304   \n",
       "13136        23                   3    7.678571    3.803571  42.638384   \n",
       "13137        10                  10   15.732906    1.405983  56.257500   \n",
       "\n",
       "       medium_plus  \n",
       "0                0  \n",
       "1                0  \n",
       "2                0  \n",
       "3                0  \n",
       "4                1  \n",
       "...            ...  \n",
       "13133            1  \n",
       "13134            1  \n",
       "13135            1  \n",
       "13136            1  \n",
       "13137            1  \n",
       "\n",
       "[13138 rows x 6 columns]"
      ]
     },
     "metadata": {},
     "output_type": "display_data"
    }
   ],
   "source": [
    "df=df.drop(columns=['fire_id', 'fire_size_bin_no'])\n",
    "df"
   ]
  },
  {
   "cell_type": "code",
   "execution_count": null,
   "metadata": {},
   "outputs": [
    {
     "data": {
      "text/plain": [
       "StandardScaler()"
      ]
     },
     "metadata": {},
     "output_type": "display_data"
    }
   ],
   "source": [
    "# Remove loan status target from features data\n",
    "target = df.medium_plus\n",
    "y = target\n",
    "# X = df.loc[:, df.columns !=target]\n",
    "X = df.drop(columns=['medium_plus']).values\n",
    "\n",
    "# Split training/test datasets\n",
    "X_train, X_test, y_train, y_test = train_test_split(X, y, random_state=1)\n",
    "\n",
    "# Create a StandardScaler instance\n",
    "scaler = StandardScaler()\n",
    "\n",
    "# Fit the StandardScaler\n",
    "X_scaler = scaler.fit(X_train)\n",
    "\n",
    "X_scaler\n"
   ]
  },
  {
   "cell_type": "code",
   "execution_count": null,
   "metadata": {},
   "outputs": [
    {
     "data": {
      "text/plain": [
       "['X_scaler.save']"
      ]
     },
     "metadata": {},
     "output_type": "display_data"
    }
   ],
   "source": [
    "\n",
    "\n",
    "joblib.dump(X_scaler, 'X_scaler.save')\n",
    "\n",
    "\n"
   ]
  },
  {
   "cell_type": "code",
   "execution_count": null,
   "metadata": {},
   "outputs": [],
   "source": [
    "state discovery_month  Temp_pre_7  Wind_pre_7  Hum_pre_7\n",
    "0     1               3        12.0        14.0        1.0\n"
   ]
  },
  {
   "cell_type": "code",
   "execution_count": null,
   "metadata": {},
   "outputs": [
    {
     "data": {
      "text/html": [
       "<div>\n",
       "<style scoped>\n",
       "    .dataframe tbody tr th:only-of-type {\n",
       "        vertical-align: middle;\n",
       "    }\n",
       "\n",
       "    .dataframe tbody tr th {\n",
       "        vertical-align: top;\n",
       "    }\n",
       "\n",
       "    .dataframe thead th {\n",
       "        text-align: right;\n",
       "    }\n",
       "</style>\n",
       "<table border=\"1\" class=\"dataframe\">\n",
       "  <thead>\n",
       "    <tr style=\"text-align: right;\">\n",
       "      <th></th>\n",
       "      <th>state_no</th>\n",
       "      <th>discovery_month_no</th>\n",
       "      <th>Temp_pre_7</th>\n",
       "      <th>Wind_pre_7</th>\n",
       "      <th>Hum_pre_7</th>\n",
       "    </tr>\n",
       "  </thead>\n",
       "  <tbody>\n",
       "    <tr>\n",
       "      <th>0</th>\n",
       "      <td>1</td>\n",
       "      <td>3</td>\n",
       "      <td>12.0</td>\n",
       "      <td>14.0</td>\n",
       "      <td>1.0</td>\n",
       "    </tr>\n",
       "  </tbody>\n",
       "</table>\n",
       "</div>"
      ],
      "text/plain": [
       "   state_no  discovery_month_no  Temp_pre_7  Wind_pre_7  Hum_pre_7\n",
       "0         1                   3        12.0        14.0        1.0"
      ]
     },
     "metadata": {},
     "output_type": "display_data"
    }
   ],
   "source": [
    "input_data=[1,3,12.0,14.0,1.0]\n",
    "\n",
    "input_df = pd.DataFrame([input_data], columns=[\"state_no\",\"discovery_month_no\",\"Temp_pre_7\",\"Wind_pre_7\",\"Hum_pre_7\"])\n",
    "input_df\n"
   ]
  },
  {
   "cell_type": "code",
   "execution_count": null,
   "metadata": {},
   "outputs": [
    {
     "data": {
      "text/plain": [
       "state_no                int64\n",
       "discovery_month_no      int64\n",
       "Temp_pre_7            float64\n",
       "Wind_pre_7            float64\n",
       "Hum_pre_7             float64\n",
       "dtype: object"
      ]
     },
     "metadata": {},
     "output_type": "display_data"
    }
   ],
   "source": [
    "input_df.dtypes"
   ]
  },
  {
   "cell_type": "code",
   "execution_count": null,
   "metadata": {},
   "outputs": [],
   "source": [
    "# Remove loan status target from features data\n",
    "#target=df.medium_plus\n",
    "#y=target\n",
    "# X = df.loc[:, df.columns !=target]\n",
    "X=input_df.values\n",
    "\n",
    "# Split training/test datasets\n",
    "#X_train, X_test, y_train, y_test = train_test_split(X, y, random_state=1)\n",
    "\n",
    "# Create a StandardScaler instance\n",
    "#scaler = StandardScaler()\n",
    "\n",
    "# Fit the StandardScaler\n",
    "#X_scaler = scaler.fit(X)\n",
    "X_scaler = joblib.load(\"X_scaler.save\")\n",
    "# Scale the data\n",
    "X_scaled = X_scaler.transform(X)\n"
   ]
  },
  {
   "cell_type": "code",
   "execution_count": null,
   "metadata": {},
   "outputs": [
    {
     "data": {
      "text/plain": [
       "array([[-1.40639464, -1.17199672, -0.621493  ,  8.79423497, -3.32589548]])"
      ]
     },
     "metadata": {},
     "output_type": "display_data"
    }
   ],
   "source": [
    "X_scaled"
   ]
  }
 ],
 "metadata": {
  "interpreter": {
   "hash": "e66d4f19f3c2764744e54839c2f25d11eaced345ba6d8bb73172f06700b9b93c"
  },
  "kernelspec": {
   "display_name": "Python 3.7.11 ('mlenv')",
   "language": "python",
   "name": "python3"
  },
  "language_info": {
   "codemirror_mode": {
    "name": "ipython",
    "version": 3
   },
   "file_extension": ".py",
   "mimetype": "text/x-python",
   "name": "python",
   "nbconvert_exporter": "python",
   "pygments_lexer": "ipython3",
   "version": "3.7.11"
  },
  "orig_nbformat": 4
 },
 "nbformat": 4,
 "nbformat_minor": 2
}
